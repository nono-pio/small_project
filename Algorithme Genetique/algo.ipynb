{
 "cells": [
  {
   "cell_type": "code",
   "execution_count": 182,
   "metadata": {},
   "outputs": [],
   "source": [
    "import random\n",
    "import math"
   ]
  },
  {
   "cell_type": "code",
   "execution_count": 192,
   "metadata": {},
   "outputs": [],
   "source": [
    "def get_fitness(pop, target):\n",
    "    fitness = []\n",
    "    for ADN in pop:\n",
    "        cur_fitness = 0\n",
    "        for i, c in enumerate(target):\n",
    "            if c == ADN[i]:\n",
    "                cur_fitness += 1\n",
    "        fitness.append(math.exp(cur_fitness))\n",
    "    return fitness\n",
    "\n",
    "def get_parent(pop, fitness):\n",
    "    parents = random.choices(pop,fitness,k=2)\n",
    "    if parents[0] == parents[1]:\n",
    "        return get_parent(pop, fitness)\n",
    "    return parents\n",
    "\n",
    "def make_mutation(child, char, mutation_rate=0.01):\n",
    "    child = list(child)\n",
    "    for i in range(len(child)):\n",
    "        if random.uniform(0,1) <= mutation_rate:\n",
    "            child[i] = random.choice(char)\n",
    "    return \"\".join(child)\n",
    "\n",
    "def make_child(parents, char, mutation_rate):\n",
    "    p1 = parents[0]\n",
    "    p2 = parents[1]\n",
    "\n",
    "    r = random.randint(0,len(p1))\n",
    "    child1 = p1[:r] + p2[r:]\n",
    "    child2 = p2[:r] + p1[r:]\n",
    "    return make_mutation(child1, char, mutation_rate=mutation_rate), make_mutation(child2, char, mutation_rate=mutation_rate)"
   ]
  },
  {
   "cell_type": "code",
   "execution_count": 164,
   "metadata": {},
   "outputs": [],
   "source": [
    "def make_NEW_generation(pop, fitness, char, mutation_rate):\n",
    "    newPop = []\n",
    "    for _ in range(len(pop)//2):\n",
    "        parents = get_parent(pop, fitness)\n",
    "        child1, child2 = make_child(parents, char, mutation_rate)\n",
    "        newPop.extend([child1, child2])\n",
    "    return newPop"
   ]
  },
  {
   "cell_type": "code",
   "execution_count": 165,
   "metadata": {},
   "outputs": [],
   "source": [
    "def evolution(pop, maxGeneration, target, char, mutation_rate=0.01):\n",
    "    for gen in range(1,maxGeneration + 1):\n",
    "        fitness = get_fitness(pop, target)\n",
    "        best = pop[fitness.index(max(fitness))]\n",
    "        if best == target:\n",
    "            print(\"Finish!\")\n",
    "            print(f\"Generation {gen} : {best}\")\n",
    "            break\n",
    "        if gen % 50 == 0:\n",
    "            print(f\"Generation {gen} max fitness {max(fitness)} : {best} \")\n",
    "        pop = make_NEW_generation(pop, fitness, char, mutation_rate)\n",
    "    return pop"
   ]
  },
  {
   "cell_type": "code",
   "execution_count": 216,
   "metadata": {},
   "outputs": [
    {
     "name": "stdout",
     "output_type": "stream",
     "text": [
      "Generation 50 max fitness 8103.083927575384 : trouve M3I \n",
      "Finish!\n",
      "Generation 52 : trouve MOI\n"
     ]
    }
   ],
   "source": [
    "pop = []\n",
    "maxPop = 100 # divisible par 2\n",
    "\n",
    "target = \"trouve MOI\"\n",
    "\n",
    "char = \"abcdefghijklmnopqrstuvwxyz\"\n",
    "char += char.upper() + \" .,-_:;<>\\\\+\\\"*ç%&/()=?'`^~\" + \"0123456789\"\n",
    "\n",
    "maxGeneration = 10000\n",
    "\n",
    "# ADN = \"jdlksdlkfj\"\n",
    "for _ in range(maxPop):\n",
    "    newADN = \"\".join(random.choices(char, k=len(target)))\n",
    "    pop.append(newADN)\n",
    "\n",
    "pop = evolution(pop, maxGeneration, target, char, mutation_rate=0.1)"
   ]
  }
 ],
 "metadata": {
  "kernelspec": {
   "display_name": "Python 3",
   "language": "python",
   "name": "python3"
  },
  "language_info": {
   "codemirror_mode": {
    "name": "ipython",
    "version": 3
   },
   "file_extension": ".py",
   "mimetype": "text/x-python",
   "name": "python",
   "nbconvert_exporter": "python",
   "pygments_lexer": "ipython3",
   "version": "3.11.0 (main, Oct 24 2022, 18:26:48) [MSC v.1933 64 bit (AMD64)]"
  },
  "orig_nbformat": 4,
  "vscode": {
   "interpreter": {
    "hash": "b52e6ff6de9a84ceb9a9da36e576b1670f0864f96ae01f09d3213a52210b404f"
   }
  }
 },
 "nbformat": 4,
 "nbformat_minor": 2
}
