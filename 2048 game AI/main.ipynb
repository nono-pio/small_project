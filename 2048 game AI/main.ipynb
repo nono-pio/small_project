{
 "cells": [
  {
   "cell_type": "code",
   "execution_count": 1,
   "metadata": {},
   "outputs": [
    {
     "name": "stdout",
     "output_type": "stream",
     "text": [
      "pygame 2.1.3.dev8 (SDL 2.0.22, Python 3.11.0)\n",
      "Hello from the pygame community. https://www.pygame.org/contribute.html\n"
     ]
    }
   ],
   "source": [
    "from env import *\n",
    "import display\n",
    "import pygame"
   ]
  },
  {
   "cell_type": "code",
   "execution_count": 2,
   "metadata": {},
   "outputs": [],
   "source": [
    "game = Game()"
   ]
  },
  {
   "cell_type": "code",
   "execution_count": 4,
   "metadata": {},
   "outputs": [
    {
     "ename": "KeyError",
     "evalue": "65536",
     "output_type": "error",
     "traceback": [
      "\u001b[1;31m---------------------------------------------------------------------------\u001b[0m",
      "\u001b[1;31mKeyError\u001b[0m                                  Traceback (most recent call last)",
      "Cell \u001b[1;32mIn[4], line 24\u001b[0m\n\u001b[0;32m     22\u001b[0m     \u001b[39mif\u001b[39;00m action \u001b[39m!=\u001b[39m \u001b[39mNone\u001b[39;00m:\n\u001b[0;32m     23\u001b[0m         game\u001b[39m.\u001b[39mplay_step(action)\n\u001b[1;32m---> 24\u001b[0m         display\u001b[39m.\u001b[39;49mrender(\u001b[39m0\u001b[39;49m,game\u001b[39m.\u001b[39;49mgrid,info)\n\u001b[0;32m     26\u001b[0m     clock\u001b[39m.\u001b[39mtick(FPS)\n\u001b[0;32m     27\u001b[0m pygame\u001b[39m.\u001b[39mquit()\n",
      "File \u001b[1;32mc:\\Users\\nolan\\OneDrive\\Bureau\\small_project\\2048 game AI\\display.py:44\u001b[0m, in \u001b[0;36mrender\u001b[1;34m(score, grid, info)\u001b[0m\n\u001b[0;32m     42\u001b[0m         square \u001b[39m=\u001b[39m grid[y][x]\n\u001b[0;32m     43\u001b[0m         \u001b[39mif\u001b[39;00m square \u001b[39m==\u001b[39m \u001b[39m0\u001b[39m: \u001b[39mcontinue\u001b[39;00m\n\u001b[1;32m---> 44\u001b[0m         pygame\u001b[39m.\u001b[39mdraw\u001b[39m.\u001b[39mrect(info[\u001b[39m'\u001b[39m\u001b[39mWIN\u001b[39m\u001b[39m'\u001b[39m],info\u001b[39m.\u001b[39;49mget(\u001b[39m'\u001b[39;49m\u001b[39mcolor\u001b[39;49m\u001b[39m'\u001b[39;49m)[square],(x\u001b[39m*\u001b[39minfo[\u001b[39m'\u001b[39m\u001b[39mDX\u001b[39m\u001b[39m'\u001b[39m],y\u001b[39m*\u001b[39minfo[\u001b[39m'\u001b[39m\u001b[39mDY\u001b[39m\u001b[39m'\u001b[39m],info[\u001b[39m'\u001b[39m\u001b[39mDX\u001b[39m\u001b[39m'\u001b[39m],info[\u001b[39m'\u001b[39m\u001b[39mDY\u001b[39m\u001b[39m'\u001b[39m]))\n\u001b[0;32m     45\u001b[0m pygame\u001b[39m.\u001b[39mdisplay\u001b[39m.\u001b[39mflip()\n",
      "\u001b[1;31mKeyError\u001b[0m: 65536"
     ]
    },
    {
     "ename": "",
     "evalue": "",
     "output_type": "error",
     "traceback": [
      "\u001b[1;31mThe Kernel crashed while executing code in the the current cell or a previous cell. Please review the code in the cell(s) to identify a possible cause of the failure. Click <a href='https://aka.ms/vscodeJupyterKernelCrash'>here</a> for more info. View Jupyter <a href='command:jupyter.viewOutput'>log</a> for further details."
     ]
    }
   ],
   "source": [
    "game.reset()\n",
    "info = display.init((300,300))\n",
    "FPS = 1\n",
    "clock = pygame.time.Clock()\n",
    "run = True\n",
    "while run:\n",
    "    action = None\n",
    "    for event in pygame.event.get():\n",
    "        if event.type == pygame.QUIT:\n",
    "            run = False\n",
    "            break\n",
    "        elif event.type == pygame.KEYDOWN:\n",
    "            match event.key:\n",
    "                case pygame.K_UP:\n",
    "                    action = 0\n",
    "                case pygame.K_DOWN:\n",
    "                    action = 2\n",
    "                case pygame.K_LEFT:\n",
    "                    action = 3\n",
    "                case pygame.K_RIGHT:\n",
    "                    action = 1\n",
    "    if action != None:\n",
    "        game.play_step(action)\n",
    "        display.render(0,game.grid,info)\n",
    "\n",
    "    clock.tick(FPS)\n",
    "pygame.quit()"
   ]
  }
 ],
 "metadata": {
  "kernelspec": {
   "display_name": "Python 3",
   "language": "python",
   "name": "python3"
  },
  "language_info": {
   "codemirror_mode": {
    "name": "ipython",
    "version": 3
   },
   "file_extension": ".py",
   "mimetype": "text/x-python",
   "name": "python",
   "nbconvert_exporter": "python",
   "pygments_lexer": "ipython3",
   "version": "3.11.0"
  },
  "orig_nbformat": 4,
  "vscode": {
   "interpreter": {
    "hash": "b52e6ff6de9a84ceb9a9da36e576b1670f0864f96ae01f09d3213a52210b404f"
   }
  }
 },
 "nbformat": 4,
 "nbformat_minor": 2
}
